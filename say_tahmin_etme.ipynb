{
  "nbformat": 4,
  "nbformat_minor": 0,
  "metadata": {
    "colab": {
      "provenance": []
    },
    "kernelspec": {
      "name": "python3",
      "display_name": "Python 3"
    },
    "language_info": {
      "name": "python"
    }
  },
  "cells": [
    {
      "cell_type": "code",
      "execution_count": null,
      "metadata": {
        "id": "B4SuVp44og8c"
      },
      "outputs": [],
      "source": [
        "import random\n",
        "\n",
        "def tahmin_oyunu():\n",
        "    print(\"Sayı tahmin oyununa hoş geldiniz!\")\n",
        "    print(\"1 ile 100 arasında bir sayı belirlendi, tahmin edin!\")\n",
        "\n",
        "    bilgisayarin_sayisi = random.randint(1, 100)\n",
        "    tahmin_sayisi = 0\n",
        "    tahmin = None\n",
        "\n",
        "    while tahmin != bilgisayarin_sayisi:\n",
        "        try:\n",
        "            tahmin = int(input(\"Tahmininiz: \"))\n",
        "            tahmin_sayisi += 1\n",
        "\n",
        "            if tahmin < bilgisayarin_sayisi:\n",
        "                print(\"Daha yüksek bir sayı tahmin edin.\")\n",
        "            elif tahmin > bilgisayarin_sayisi:\n",
        "                print(\"Daha düşük bir sayı tahmin edin.\")\n",
        "            else:\n",
        "                print(f\"Tebrikler! {bilgisayarin_sayisi} sayısını {tahmin_sayisi} tahminde buldunuz!\")\n",
        "        except ValueError:\n",
        "            print(\"Geçersiz bir giriş yaptınız. Lütfen bir sayı girin.\")"
      ]
    },
    {
      "cell_type": "code",
      "source": [
        "tahmin_oyunu()"
      ],
      "metadata": {
        "colab": {
          "base_uri": "https://localhost:8080/"
        },
        "id": "PdSaMrOKAVKz",
        "outputId": "aba81cf3-2d27-4767-a4fe-5478c9d82a2d"
      },
      "execution_count": null,
      "outputs": [
        {
          "output_type": "stream",
          "name": "stdout",
          "text": [
            "Sayı tahmin oyununa hoş geldiniz!\n",
            "1 ile 100 arasında bir sayı belirlendi, tahmin edin!\n"
          ]
        }
      ]
    }
  ]
}