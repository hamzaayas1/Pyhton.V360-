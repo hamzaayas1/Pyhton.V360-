{
  "nbformat": 4,
  "nbformat_minor": 0,
  "metadata": {
    "colab": {
      "provenance": []
    },
    "kernelspec": {
      "name": "python3",
      "display_name": "Python 3"
    },
    "language_info": {
      "name": "python"
    }
  },
  "cells": [
    {
      "cell_type": "code",
      "execution_count": null,
      "metadata": {
        "id": "lE9C8p3GAzS6"
      },
      "outputs": [],
      "source": [
        "film_verileri = {\n",
        "    \"Matrix\": {\n",
        "        \"Kategoriler\": [\"Bilim Kurgu\", \"Aksiyon\"],\n",
        "        \"Aktörler\": [\"Keanu Reeves\", \"Carrie-Anne Moss\"],\n",
        "        \"Yönetmen\": \"Lana Wachowski\",\n",
        "        \"Yapım Yılı\": 1999\n",
        "    },\n",
        "    \"Inception\": {\n",
        "        \"Kategoriler\": [\"Bilim Kurgu\", \"Gizem\"],\n",
        "        \"Aktörler\": [\"Leonardo DiCaprio\", \"Joseph Gordon-Levitt\"],\n",
        "        \"Yönetmen\": \"Christopher Nolan\",\n",
        "        \"Yapım Yılı\": 2010\n",
        "    },\n",
        "    \"Pulp Fiction\": {\n",
        "        \"Kategoriler\": [\"Suç\", \"Drama\"],\n",
        "        \"Aktörler\": [\"John Travolta\", \"Uma Thurman\"],\n",
        "        \"Yönetmen\": \"Quentin Tarantino\",\n",
        "        \"Yapım Yılı\": 1994\n",
        "    },\n",
        "\n",
        "    \"The Godfather\": {\n",
        "        \"Kategoriler\": [\"Suç\", \"Drama\"],\n",
        "        \"Aktörler\": [\"Marlon Brando\", \"Al Pacino\"],\n",
        "        \"Yönetmen\": \"Francis Ford Coppola\",\n",
        "        \"Yapım Yılı\": 1972\n",
        "    },\n",
        "    \"The Shawshank Redemption\": {\n",
        "        \"Kategoriler\": [\"Drama\", \"Suç\"],\n",
        "        \"Aktörler\": [\"Tim Robbins\", \"Morgan Freeman\"],\n",
        "        \"Yönetmen\": \"Frank Darabont\",\n",
        "        \"Yapım Yılı\": 1994\n",
        "    },\n",
        "\n",
        "}"
      ]
    },
    {
      "cell_type": "code",
      "source": [
        "film_verileri"
      ],
      "metadata": {
        "id": "Tea-8AXjA505"
      },
      "execution_count": null,
      "outputs": []
    }
  ]
}