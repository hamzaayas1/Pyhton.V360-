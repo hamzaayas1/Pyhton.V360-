{
  "nbformat": 4,
  "nbformat_minor": 0,
  "metadata": {
    "colab": {
      "provenance": []
    },
    "kernelspec": {
      "name": "python3",
      "display_name": "Python 3"
    },
    "language_info": {
      "name": "python"
    }
  },
  "cells": [
    {
      "cell_type": "code",
      "execution_count": null,
      "metadata": {
        "id": "bQGPtXR4Bm7e"
      },
      "outputs": [],
      "source": [
        "def asal_mi(sayi):\n",
        "    if sayi < 2:\n",
        "        return False\n",
        "    for i in range(2, int(sayi ** 0.5) + 1):\n",
        "        if sayi % i == 0:\n",
        "            return False\n",
        "    return True\n",
        "\n",
        "def asal_sayilari_bul(kullanici_sayisi):\n",
        "    asal_sayilar = []\n",
        "    for sayi in range(2, kullanici_sayisi + 1):\n",
        "        if asal_mi(sayi):\n",
        "            asal_sayilar.append(sayi)\n",
        "    return asal_sayilar\n",
        "\n",
        "girilen_sayi = int(input(\"Bir sayı girin: \"))\n",
        "asal_listesi = asal_sayilari_bul(girilen_sayi)\n",
        "print(f\"{girilen_sayi}'ye kadar olan asal sayılar: {asal_listesi}\")"
      ]
    }
  ]
}